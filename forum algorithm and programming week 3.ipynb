{
 "cells": [
  {
   "cell_type": "code",
   "execution_count": 4,
   "id": "cf3b2df0",
   "metadata": {},
   "outputs": [
    {
     "name": "stdout",
     "output_type": "stream",
     "text": [
      "please input circle radius:11\n",
      "the area of the circle is 380.1327110843649\n"
     ]
    }
   ],
   "source": [
    "#1.Write a Python program which accepts the radius of a circle from the user and compute the area\n",
    "from math import pi\n",
    "r = float(input(\"please input circle radius:\"))\n",
    "y = pi * r * r\n",
    "print(\"the area of the circle is\" , y )"
   ]
  },
  {
   "cell_type": "code",
   "execution_count": 5,
   "id": "b003d92a",
   "metadata": {},
   "outputs": [
    {
     "name": "stdout",
     "output_type": "stream",
     "text": [
      "first name :hilkia\n",
      "last name :latjandu\n",
      "latjandu hilkia\n"
     ]
    }
   ],
   "source": [
    "#2.Write a Python program which accepts the user's first and last name and print them in reverse order with a space\n",
    "#between them\n",
    "x = input(\"first name :\")\n",
    "y = input(\"last name :\")\n",
    "print(y , x)"
   ]
  },
  {
   "cell_type": "code",
   "execution_count": 6,
   "id": "64d1473c",
   "metadata": {},
   "outputs": [
    {
     "name": "stdout",
     "output_type": "stream",
     "text": [
      "Red\n",
      "Black\n"
     ]
    }
   ],
   "source": [
    "#3.Write a Python program to display the first and last colors from the following list\n",
    "color_list = [\"Red\",\"Green\",\"White\",\"Black\"]\n",
    "print(color_list[0])\n",
    "print(color_list[3])"
   ]
  },
  {
   "cell_type": "code",
   "execution_count": 8,
   "id": "e5a365f0",
   "metadata": {},
   "outputs": [
    {
     "name": "stdout",
     "output_type": "stream",
     "text": [
      "Input an integer : 2\n",
      "246\n"
     ]
    }
   ],
   "source": [
    "#4.Write a Python program that accepts an integer (n) and computes the value of n+nn+nnn\n",
    "x = int(input(\"Input an integer : \"))\n",
    "y = int( \"%s\" % x )\n",
    "z = int( \"%s%s\" % (x,x) )\n",
    "w = int( \"%s%s%s\" % (x,x,x) )\n",
    "print (y+z+w)"
   ]
  },
  {
   "cell_type": "code",
   "execution_count": 11,
   "id": "fd8b460e",
   "metadata": {},
   "outputs": [
    {
     "name": "stdout",
     "output_type": "stream",
     "text": [
      "the volume is: 904.7786842338603\n"
     ]
    }
   ],
   "source": [
    "#5.Write a Python program to get the volume of a sphere with radius 6.\n",
    "#The volume of the sphere is : V = 4/3 × π × r3 = π × d3/6\n",
    "from math import pi\n",
    "x = 6\n",
    "v = float((4/3)*pi*x**3)\n",
    "print(\"the volume is:\", v)"
   ]
  },
  {
   "cell_type": "code",
   "execution_count": 16,
   "id": "ef25b6e9",
   "metadata": {},
   "outputs": [
    {
     "name": "stdout",
     "output_type": "stream",
     "text": [
      "please input number :20\n",
      "double the absolute difference is: 6\n"
     ]
    }
   ],
   "source": [
    "#6.Write a Python program to get the difference between a given number and 17, if the number is greater than 17 return\n",
    "#double the absolute difference\n",
    "x = 17\n",
    "y = int(input(\"please input number :\"))\n",
    "if y <= 17 :\n",
    "    print(\"the difference is :\" , x-y)\n",
    "elif y> 17 :\n",
    "    print(\"double the absolute difference is:\" , (y-x)*2)\n",
    "   "
   ]
  },
  {
   "cell_type": "code",
   "execution_count": 17,
   "id": "5fb785b1",
   "metadata": {},
   "outputs": [
    {
     "name": "stdout",
     "output_type": "stream",
     "text": [
      "please input :1\n",
      "please input :1\n",
      "please input :1\n",
      "triple the sum is : 9.0\n"
     ]
    }
   ],
   "source": [
    "#7.Write a Python program to calculate the sum of three given numbers, if the values are equal then return thrice of their\n",
    "#sum\n",
    "x = float(input(\"please input :\"))\n",
    "y = float(input(\"please input :\"))\n",
    "z = float(input(\"please input :\"))\n",
    "if x==y==z :\n",
    "    print(\"triple the sum is :\" , x*3*3)\n",
    "else : print(\"the sum is :\" , x+y+z)"
   ]
  },
  {
   "cell_type": "code",
   "execution_count": 23,
   "id": "52766ca6",
   "metadata": {},
   "outputs": [
    {
     "name": "stdout",
     "output_type": "stream",
     "text": [
      "please input number :5\n",
      "the number 5 is an odd number\n"
     ]
    }
   ],
   "source": [
    "#8.Write a Python program to find whether a given number (accept from the user) is even or odd, print out an appropriate\n",
    "#message to the user\n",
    "x = int(input(\"please input number :\"))\n",
    "if x%2==0 :\n",
    "    print(\"the number\",x,\"is an even number\")\n",
    "elif x%2==1 :\n",
    "    print(\"the number\",x,\"is an odd number\")"
   ]
  },
  {
   "cell_type": "code",
   "execution_count": 32,
   "id": "09b7cf05",
   "metadata": {},
   "outputs": [
    {
     "name": "stdout",
     "output_type": "stream",
     "text": [
      "please input letter :b\n",
      "the letter b is a konsonant\n"
     ]
    }
   ],
   "source": [
    "#9.Write a Python program to test whether a letter is a vowel or not\n",
    "x1 = str(input(\"please input letter :\"))\n",
    "x2 = [\"a\",\"i\",\"u\",\"e\",\"o\",\"A\",\"I\",\"U\",\"E\",\"O\"]\n",
    "if x1 in x2:\n",
    "    print(\"the letter\",x1,\"is a vowel\")\n",
    "else:\n",
    "    print(\"the letter\",x1,\"is a konsonant\")"
   ]
  },
  {
   "cell_type": "code",
   "execution_count": 35,
   "id": "098da53d",
   "metadata": {},
   "outputs": [
    {
     "name": "stdout",
     "output_type": "stream",
     "text": [
      "please input a word or a number from 1 to 300 :245\n",
      "the word or number 245 is a member\n"
     ]
    }
   ],
   "source": [
    "#10.Write a Python program to check whether a specified value is contained in a group of values\n",
    "x = [\"apel\",\"spear\",\"good\",\"son\",\"forgotten\",\"1\",\"5\",\"12\",\"64\",\"222\",\"245\"]\n",
    "y = str(input(\"please input a word or a number from 1 to 300 :\"))\n",
    "if y in x :\n",
    "    print(\"the word or number\",y,\"is a member\")\n",
    "else :\n",
    "    print(\"the word or number\",y,\"is not a member\")"
   ]
  },
  {
   "cell_type": "code",
   "execution_count": 2,
   "id": "c7abee2a",
   "metadata": {},
   "outputs": [
    {
     "name": "stdout",
     "output_type": "stream",
     "text": [
      "Enter multiple integers (s) : 2,4,7\n",
      "!!\n",
      "!!!!\n",
      "!!!!!!!\n"
     ]
    }
   ],
   "source": [
    "#11.Write a Python program to create a histogram from a given list of integers\n",
    "x = [x for x in input(\"Enter multiple integers (s) : \").split(\",\")]\n",
    "def histogram(x):\n",
    "    for n in x:\n",
    "        output = ''\n",
    "        times = n\n",
    "        while( int(times) > 0 ):\n",
    "            output += '!'\n",
    "            times = int(times) - 1\n",
    "        print(output)\n",
    "        \n",
    "histogram(x)"
   ]
  },
  {
   "cell_type": "code",
   "execution_count": 27,
   "id": "ab2a2157",
   "metadata": {},
   "outputs": [
    {
     "name": "stdout",
     "output_type": "stream",
     "text": [
      "386,462,418,344,236,566,978,328,162,758,918,412,566,826,248,866,950,626,104,58,512,24,892,894,742,958,"
     ]
    }
   ],
   "source": [
    "#12.Write a Python program to print all even numbers from a given numbers list in the same order\n",
    "num = [\n",
    " 386, 462, 47, 418, 907, 344, 236, 375, 823, 566, 597, 978, 328, 615, 953, 345,\n",
    " 399, 162, 758, 219, 918, 237, 412, 566, 826, 248, 866, 950, 626, 949, 687, 217,\n",
    " 815, 67, 104, 58, 512, 24, 892, 894, 767, 553, 81, 379, 843, 831, 445, 742, 717,\n",
    " 958,743, 527 \n",
    "]\n",
    "for x in num :\n",
    "    if x % 2 == 0 :\n",
    "        print( x , end=\",\" )"
   ]
  },
  {
   "cell_type": "code",
   "execution_count": 72,
   "id": "e36b5bf9",
   "metadata": {},
   "outputs": [
    {
     "name": "stdout",
     "output_type": "stream",
     "text": [
      "please enter the base of the triangle :10\n",
      "please enter the height of the triangle :5\n",
      "the area size is 25.0\n"
     ]
    }
   ],
   "source": [
    "#13.Write a Python program that will accept the base and height of a triangle and compute the area\n",
    "x = int(input(\"please enter the base of the triangle :\"))\n",
    "y = int(input(\"please enter the height of the triangle :\"))\n",
    "xy = (x*y)/2\n",
    "print(\"the area size is\",xy)"
   ]
  },
  {
   "cell_type": "code",
   "execution_count": 161,
   "id": "805dd999",
   "metadata": {},
   "outputs": [
    {
     "name": "stdout",
     "output_type": "stream",
     "text": [
      "please enter an positive integer :14\n",
      "please enter the second positive integer :22\n",
      "the LCM of both integer is 154\n"
     ]
    }
   ],
   "source": [
    "#14.Write a Python program to get the least common multiple (LCM) of two positive integers\n",
    "x = int(input(\"please enter an positive integer :\"))\n",
    "y = int(input(\"please enter the second positive integer :\"))\n",
    "def xy(x, y):\n",
    "  if x > y:\n",
    "      z = x\n",
    "  else:\n",
    "      z = y\n",
    "  while(True):\n",
    "      if((z % x == 0) and (z % y == 0)):\n",
    "          xy = z\n",
    "          break\n",
    "      z += 1\n",
    "  return xy\n",
    "print(\"the LCM of both integer is\",xy(x , y))"
   ]
  },
  {
   "cell_type": "code",
   "execution_count": 164,
   "id": "ecf5e45b",
   "metadata": {},
   "outputs": [
    {
     "name": "stdout",
     "output_type": "stream",
     "text": [
      "please input an integer :3\n",
      "please input an integer :3\n",
      "please input an integer :1\n",
      "the sum is zero\n"
     ]
    }
   ],
   "source": [
    "#15.Write a Python program to sum of three given integers. However, if two values are equal sum will be zero\n",
    "x = int(input(\"please input an integer :\"))\n",
    "y = int(input(\"please input an integer :\"))\n",
    "z = int(input(\"please input an integer :\"))\n",
    "if x==y or x==z or y==z:\n",
    "    print(\"the sum is zero\")\n",
    "else:\n",
    "    print(\"the sum is\", x+y+z )"
   ]
  },
  {
   "cell_type": "code",
   "execution_count": 167,
   "id": "616178be",
   "metadata": {},
   "outputs": [
    {
     "name": "stdout",
     "output_type": "stream",
     "text": [
      "please input an integer :1\n",
      "please input an integer :2\n",
      "the solution is (() 1 + 2 )**2)= 9\n"
     ]
    }
   ],
   "source": [
    "#16.Write a Python program to solve (x + y) * (x + y)\n",
    "x = int(input(\"please input an integer :\"))\n",
    "y = int(input(\"please input an integer :\"))\n",
    "print(\"the solution is (()\",x,\"+\",y,\")**2)=\",(x+y)**2)"
   ]
  },
  {
   "cell_type": "code",
   "execution_count": 2,
   "id": "9915dc6a",
   "metadata": {},
   "outputs": [
    {
     "name": "stdout",
     "output_type": "stream",
     "text": [
      "please input the amount :10000\n",
      "please input the interest :50\n",
      "please input the years :5\n",
      "75937.5\n"
     ]
    }
   ],
   "source": [
    "#17.Write a Python program to compute the future value of a specified principal amount, rate of interest, and a number of\n",
    "#years\n",
    "amount = int(input(\"please input the amount :\"))\n",
    "intrest = int(input(\"please input the interest :\"))\n",
    "years = int(input(\"please input the years :\"))\n",
    "future_value = amount*((1+(0.01*intrest)) ** years)\n",
    "print(round(future_value,2))"
   ]
  },
  {
   "cell_type": "code",
   "execution_count": 3,
   "id": "24c640aa",
   "metadata": {},
   "outputs": [
    {
     "name": "stdout",
     "output_type": "stream",
     "text": [
      "please input the first x point :12\n",
      "please input the first y point :12\n",
      "please input the second x point :23\n",
      "please input the second y point :23\n",
      "the distance is 11.0 and 11.0\n"
     ]
    }
   ],
   "source": [
    "#18.Write a Python program to compute the distance between the points (x1, y1) and (x2, y2)\n",
    "x = float(input(\"please input the first x point :\"))\n",
    "y = float(input(\"please input the first y point :\"))\n",
    "xx = float(input(\"please input the second x point :\"))\n",
    "yy = float(input(\"please input the second y point :\"))\n",
    "xy = xx - x\n",
    "yx = yy - y\n",
    "print(\"the distance is\",xy ,\"and\" , yx)"
   ]
  },
  {
   "cell_type": "code",
   "execution_count": 5,
   "id": "2b485c54",
   "metadata": {},
   "outputs": [
    {
     "name": "stdout",
     "output_type": "stream",
     "text": [
      "please input an positive integer :12\n",
      "the sum of the first 12 integer is 78.0\n"
     ]
    }
   ],
   "source": [
    "#19.Write a python program to sum of the first n positive integers.\n",
    "x = int(input(\"please input an positive integer :\"))\n",
    "xy = (x*(x+1))/2\n",
    "print(\"the sum of the first\" , x , \"integer is\" , xy)"
   ]
  },
  {
   "cell_type": "code",
   "execution_count": 7,
   "id": "48fba111",
   "metadata": {},
   "outputs": [
    {
     "name": "stdout",
     "output_type": "stream",
     "text": [
      "please input the height in feet :5\n",
      "please input the remanining inches :11\n",
      "the height is 180.34 in cm\n"
     ]
    }
   ],
   "source": [
    "#20.Write a Python program to convert height (in feet and inches) to centimeters\n",
    "x = int(input(\"please input the height in feet :\"))\n",
    "y = int(input(\"please input the remanining inches :\"))\n",
    "xy = x*12\n",
    "z = (xy+y)*2.54\n",
    "print(\"the height is\" , z , \"in cm\")"
   ]
  },
  {
   "cell_type": "code",
   "execution_count": 8,
   "id": "5cb0101a",
   "metadata": {},
   "outputs": [
    {
     "name": "stdout",
     "output_type": "stream",
     "text": [
      "please enter the size of a side :3\n",
      "please enter the size of b side :4\n",
      "the size of the hypotenuse is 5.0\n"
     ]
    }
   ],
   "source": [
    "#21.Write a Python program to calculate the hypotenuse of a right angled triangle.\n",
    "import math\n",
    "x = float(input(\"please enter the size of a side :\"))\n",
    "y = float(input(\"please enter the size of b side :\"))\n",
    "z = math.sqrt(x**2+y**2)\n",
    "print(\"the size of the hypotenuse is\" , z)"
   ]
  },
  {
   "cell_type": "code",
   "execution_count": 10,
   "id": "79984a9b",
   "metadata": {},
   "outputs": [
    {
     "name": "stdout",
     "output_type": "stream",
     "text": [
      "please input your height in feet :5\n",
      "please input your remanining inches :7\n",
      "please enter your weight (kg) :74\n",
      "your body mass index is 25.551398841715034\n"
     ]
    }
   ],
   "source": [
    "#22.Write a Python program to calculate body mass index.\n",
    "x = int(input(\"please input your height in feet :\"))\n",
    "y = int(input(\"please input your remanining inches :\"))\n",
    "xy = x*12\n",
    "z = ((xy+y)*2.54)/100\n",
    "xyz = float(input(\"please enter your weight (kg) :\"))\n",
    "xx = xyz/(z**2)\n",
    "print(\"your body mass index is\" , xx)"
   ]
  },
  {
   "cell_type": "code",
   "execution_count": 11,
   "id": "8660a0db",
   "metadata": {},
   "outputs": [
    {
     "name": "stdout",
     "output_type": "stream",
     "text": [
      "please input the first x point :12\n",
      "please input the first y point :12\n",
      "please input the second x point :24\n",
      "please input the second y point :24\n",
      "the midpoint of that line is 18.0 , 18.0\n"
     ]
    }
   ],
   "source": [
    "#23.Write a Python program to calculate midpoints of a line\n",
    "x = float(input(\"please input the first x point :\"))\n",
    "y = float(input(\"please input the first y point :\"))\n",
    "xx = float(input(\"please input the second x point :\"))\n",
    "yy = float(input(\"please input the second y point :\"))\n",
    "xy = (xx + x)/2\n",
    "yx = (yy + y)/2\n",
    "print(\"the midpoint of that line is\" , xy , \",\" , yx )"
   ]
  },
  {
   "cell_type": "code",
   "execution_count": 16,
   "id": "600a8828",
   "metadata": {},
   "outputs": [
    {
     "name": "stdout",
     "output_type": "stream",
     "text": [
      "2002,2009,2016,2023,2037,2044,2051,2058,2072,2079,2086,2093,2107,2114,2121,2128,2142,2149,2156,2163,2177,2184,2191,2198,2212,2219,2226,2233,2247,2254,2261,2268,2282,2289,2296,2303,2317,2324,2331,2338,2352,2359,2366,2373,2387,2394,2401,2408,2422,2429,2436,2443,2457,2464,2471,2478,2492,2499,2506,2513,2527,2534,2541,2548,2562,2569,2576,2583,2597,2604,2611,2618,2632,2639,2646,2653,2667,2674,2681,2688,2702,2709,2716,2723,2737,2744,2751,2758,2772,2779,2786,2793,2807,2814,2821,2828,2842,2849,2856,2863,2877,2884,2891,2898,2912,2919,2926,2933,2947,2954,2961,2968,2982,2989,2996,3003,3017,3024,3031,3038,3052,3059,3066,3073,3087,3094,3101,3108,3122,3129,3136,3143,3157,3164,3171,3178,3192,3199,"
     ]
    }
   ],
   "source": [
    "#24.Write a program which will find all such numbers which are divisible by 7 but are not a multiple of 5, between 2000 and\n",
    "#3200 (both included). The numbers obtained should be printed in a comma-separated sequence on a single line\n",
    "for x in range(2000, 3200):\n",
    "    if (x%7==0) and (x%5!=0):\n",
    "        print (x , end=\",\")"
   ]
  },
  {
   "cell_type": "code",
   "execution_count": null,
   "id": "88301c70",
   "metadata": {},
   "outputs": [],
   "source": []
  },
  {
   "cell_type": "code",
   "execution_count": null,
   "id": "1946015d",
   "metadata": {},
   "outputs": [],
   "source": []
  }
 ],
 "metadata": {
  "kernelspec": {
   "display_name": "Python 3 (ipykernel)",
   "language": "python",
   "name": "python3"
  },
  "language_info": {
   "codemirror_mode": {
    "name": "ipython",
    "version": 3
   },
   "file_extension": ".py",
   "mimetype": "text/x-python",
   "name": "python",
   "nbconvert_exporter": "python",
   "pygments_lexer": "ipython3",
   "version": "3.10.7"
  }
 },
 "nbformat": 4,
 "nbformat_minor": 5
}
